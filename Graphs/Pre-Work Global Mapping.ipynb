{
 "cells": [
  {
   "cell_type": "markdown",
   "id": "140c824c",
   "metadata": {},
   "source": [
    "# Setup"
   ]
  },
  {
   "cell_type": "code",
   "execution_count": 22,
   "id": "87a27bc8",
   "metadata": {},
   "outputs": [],
   "source": [
    "#import dependencies\n",
    "import pandas as pd\n",
    "import sys\n",
    "import requests\n",
    "import gmaps\n",
    "\n",
    "#api-key in different folder, so need to adjust filepath\n",
    "sys.path.append('/Users/Chrismus Time/Desktop/inca-digital-remittance-kyc-report')\n",
    "\n",
    "#import api-key for google maps\n",
    "from config import gkey"
   ]
  },
  {
   "cell_type": "code",
   "execution_count": 12,
   "id": "306fad76",
   "metadata": {},
   "outputs": [
    {
     "data": {
      "text/html": [
       "<div>\n",
       "<style scoped>\n",
       "    .dataframe tbody tr th:only-of-type {\n",
       "        vertical-align: middle;\n",
       "    }\n",
       "\n",
       "    .dataframe tbody tr th {\n",
       "        vertical-align: top;\n",
       "    }\n",
       "\n",
       "    .dataframe thead th {\n",
       "        text-align: right;\n",
       "    }\n",
       "</style>\n",
       "<table border=\"1\" class=\"dataframe\">\n",
       "  <thead>\n",
       "    <tr style=\"text-align: right;\">\n",
       "      <th></th>\n",
       "      <th>Countries</th>\n",
       "    </tr>\n",
       "  </thead>\n",
       "  <tbody>\n",
       "    <tr>\n",
       "      <th>0</th>\n",
       "      <td>Afghanistan</td>\n",
       "    </tr>\n",
       "    <tr>\n",
       "      <th>1</th>\n",
       "      <td>Chile</td>\n",
       "    </tr>\n",
       "    <tr>\n",
       "      <th>2</th>\n",
       "      <td>Croatia</td>\n",
       "    </tr>\n",
       "    <tr>\n",
       "      <th>3</th>\n",
       "      <td>Dominican Republic</td>\n",
       "    </tr>\n",
       "    <tr>\n",
       "      <th>4</th>\n",
       "      <td>El Salvador</td>\n",
       "    </tr>\n",
       "  </tbody>\n",
       "</table>\n",
       "</div>"
      ],
      "text/plain": [
       "            Countries\n",
       "0         Afghanistan\n",
       "1               Chile\n",
       "2             Croatia\n",
       "3  Dominican Republic\n",
       "4         El Salvador"
      ]
     },
     "execution_count": 12,
     "metadata": {},
     "output_type": "execute_result"
    }
   ],
   "source": [
    "#import csv of countries\n",
    "country_df = pd.read_csv('Resources/Countries.csv')\n",
    "country_df.head(5)"
   ]
  },
  {
   "cell_type": "markdown",
   "id": "d04f8af0",
   "metadata": {},
   "source": [
    "# Fetching Geocoordinates of Countries"
   ]
  },
  {
   "cell_type": "code",
   "execution_count": 13,
   "id": "2fa03388",
   "metadata": {},
   "outputs": [],
   "source": [
    "#GEO url setup\n",
    "geo_params = {\n",
    "    'address' : '', #empty, will populated in forloop below\n",
    "    'key' : gkey\n",
    "}\n",
    "geo_url = 'https://maps.googleapis.com/maps/api/geocode/json'"
   ]
  },
  {
   "cell_type": "code",
   "execution_count": 14,
   "id": "4a8f40ea",
   "metadata": {},
   "outputs": [],
   "source": [
    "#setting up lists for geo-requests\n",
    "lat_ls, long_ls = [], [] #empty lists to geo-requests to populate data into\n",
    "country_ls = country_df['Countries'].tolist() #list of countries to iterate through, for-loop below"
   ]
  },
  {
   "cell_type": "code",
   "execution_count": 18,
   "id": "7eb401c8",
   "metadata": {},
   "outputs": [],
   "source": [
    "#populating lists with relevant data\n",
    "for i in range(len(country_ls)): #for every country...\n",
    "    #add the relevant api parameters\n",
    "    geo_params['address'] = country_ls[i]\n",
    "    #fetching API data\n",
    "    geo_response = requests.get(geo_url, params = geo_params).json()\n",
    "    #indexing into geo_response to get info, then add to correct list\n",
    "    lat_ls.append(geo_response['results'][0]['geometry']['location']['lat'])\n",
    "    long_ls.append(geo_response['results'][0]['geometry']['location']['lng'])"
   ]
  },
  {
   "cell_type": "code",
   "execution_count": 19,
   "id": "1b5aee6f",
   "metadata": {},
   "outputs": [
    {
     "data": {
      "text/html": [
       "<div>\n",
       "<style scoped>\n",
       "    .dataframe tbody tr th:only-of-type {\n",
       "        vertical-align: middle;\n",
       "    }\n",
       "\n",
       "    .dataframe tbody tr th {\n",
       "        vertical-align: top;\n",
       "    }\n",
       "\n",
       "    .dataframe thead th {\n",
       "        text-align: right;\n",
       "    }\n",
       "</style>\n",
       "<table border=\"1\" class=\"dataframe\">\n",
       "  <thead>\n",
       "    <tr style=\"text-align: right;\">\n",
       "      <th></th>\n",
       "      <th>Countries</th>\n",
       "      <th>Latitude</th>\n",
       "      <th>Longitude</th>\n",
       "    </tr>\n",
       "  </thead>\n",
       "  <tbody>\n",
       "    <tr>\n",
       "      <th>0</th>\n",
       "      <td>Afghanistan</td>\n",
       "      <td>33.939110</td>\n",
       "      <td>67.709953</td>\n",
       "    </tr>\n",
       "    <tr>\n",
       "      <th>1</th>\n",
       "      <td>Chile</td>\n",
       "      <td>-35.675147</td>\n",
       "      <td>-71.542969</td>\n",
       "    </tr>\n",
       "    <tr>\n",
       "      <th>2</th>\n",
       "      <td>Croatia</td>\n",
       "      <td>45.100000</td>\n",
       "      <td>15.200000</td>\n",
       "    </tr>\n",
       "    <tr>\n",
       "      <th>3</th>\n",
       "      <td>Dominican Republic</td>\n",
       "      <td>18.735693</td>\n",
       "      <td>-70.162651</td>\n",
       "    </tr>\n",
       "    <tr>\n",
       "      <th>4</th>\n",
       "      <td>El Salvador</td>\n",
       "      <td>13.794185</td>\n",
       "      <td>-88.896530</td>\n",
       "    </tr>\n",
       "    <tr>\n",
       "      <th>5</th>\n",
       "      <td>Ecuador</td>\n",
       "      <td>-1.831239</td>\n",
       "      <td>-78.183406</td>\n",
       "    </tr>\n",
       "    <tr>\n",
       "      <th>6</th>\n",
       "      <td>Iran</td>\n",
       "      <td>32.427908</td>\n",
       "      <td>53.688046</td>\n",
       "    </tr>\n",
       "    <tr>\n",
       "      <th>7</th>\n",
       "      <td>Kazakhstan</td>\n",
       "      <td>48.019573</td>\n",
       "      <td>66.923684</td>\n",
       "    </tr>\n",
       "    <tr>\n",
       "      <th>8</th>\n",
       "      <td>Morocco</td>\n",
       "      <td>31.791702</td>\n",
       "      <td>-7.092620</td>\n",
       "    </tr>\n",
       "    <tr>\n",
       "      <th>9</th>\n",
       "      <td>Pakistan</td>\n",
       "      <td>30.375321</td>\n",
       "      <td>69.345116</td>\n",
       "    </tr>\n",
       "    <tr>\n",
       "      <th>10</th>\n",
       "      <td>Peru</td>\n",
       "      <td>-9.189967</td>\n",
       "      <td>-75.015152</td>\n",
       "    </tr>\n",
       "    <tr>\n",
       "      <th>11</th>\n",
       "      <td>Philippines</td>\n",
       "      <td>12.879721</td>\n",
       "      <td>121.774017</td>\n",
       "    </tr>\n",
       "    <tr>\n",
       "      <th>12</th>\n",
       "      <td>Saudi Arabia</td>\n",
       "      <td>23.885942</td>\n",
       "      <td>45.079162</td>\n",
       "    </tr>\n",
       "    <tr>\n",
       "      <th>13</th>\n",
       "      <td>Switzerland</td>\n",
       "      <td>46.818188</td>\n",
       "      <td>8.227512</td>\n",
       "    </tr>\n",
       "    <tr>\n",
       "      <th>14</th>\n",
       "      <td>Ukraine</td>\n",
       "      <td>48.379433</td>\n",
       "      <td>31.165580</td>\n",
       "    </tr>\n",
       "    <tr>\n",
       "      <th>15</th>\n",
       "      <td>United Arab Emirates</td>\n",
       "      <td>23.424076</td>\n",
       "      <td>53.847818</td>\n",
       "    </tr>\n",
       "    <tr>\n",
       "      <th>16</th>\n",
       "      <td>Vietnam</td>\n",
       "      <td>14.058324</td>\n",
       "      <td>108.277199</td>\n",
       "    </tr>\n",
       "  </tbody>\n",
       "</table>\n",
       "</div>"
      ],
      "text/plain": [
       "               Countries   Latitude   Longitude\n",
       "0            Afghanistan  33.939110   67.709953\n",
       "1                  Chile -35.675147  -71.542969\n",
       "2                Croatia  45.100000   15.200000\n",
       "3     Dominican Republic  18.735693  -70.162651\n",
       "4            El Salvador  13.794185  -88.896530\n",
       "5                Ecuador  -1.831239  -78.183406\n",
       "6                   Iran  32.427908   53.688046\n",
       "7             Kazakhstan  48.019573   66.923684\n",
       "8                Morocco  31.791702   -7.092620\n",
       "9               Pakistan  30.375321   69.345116\n",
       "10                  Peru  -9.189967  -75.015152\n",
       "11           Philippines  12.879721  121.774017\n",
       "12          Saudi Arabia  23.885942   45.079162\n",
       "13           Switzerland  46.818188    8.227512\n",
       "14               Ukraine  48.379433   31.165580\n",
       "15  United Arab Emirates  23.424076   53.847818\n",
       "16               Vietnam  14.058324  108.277199"
      ]
     },
     "execution_count": 19,
     "metadata": {},
     "output_type": "execute_result"
    }
   ],
   "source": [
    "#adding data into country_df\n",
    "country_df['Latitude'] = lat_ls\n",
    "country_df['Longitude'] = long_ls\n",
    "country_df"
   ]
  },
  {
   "cell_type": "markdown",
   "id": "b71efe77",
   "metadata": {},
   "source": [
    "# Plotting Countries via Geocoordinates"
   ]
  },
  {
   "cell_type": "code",
   "execution_count": 25,
   "id": "2b665b46",
   "metadata": {},
   "outputs": [],
   "source": [
    "#figure settings\n",
    "fig_settings = {\n",
    "    'width': '600px',\n",
    "    'height': '500px',\n",
    "    'border': '1px solid black',\n",
    "    'padding': '1px',\n",
    "    'margin': '0 auto 0 auto'\n",
    "}\n",
    "\n",
    "#create fig object\n",
    "fig = gmaps.figure(layout = fig_settings)"
   ]
  },
  {
   "cell_type": "code",
   "execution_count": 36,
   "id": "eccd7420",
   "metadata": {},
   "outputs": [
    {
     "data": {
      "application/vnd.jupyter.widget-view+json": {
       "model_id": "1a2fc6a4599847a18d953e22494fe5a3",
       "version_major": 2,
       "version_minor": 0
      },
      "text/plain": [
       "Figure(layout=FigureLayout(border='1px solid black', height='500px', margin='0 auto 0 auto', padding='1px', wi…"
      ]
     },
     "metadata": {},
     "output_type": "display_data"
    }
   ],
   "source": [
    "#generating marker variables\n",
    "coordinates = list(zip(country_df['Latitude'].tolist(), country_df['Longitude'].tolist()))\n",
    "\n",
    "#create info box format\n",
    "info_box_format = \"\"\"\n",
    "<dd><b>{Countries}</b></dd>\n",
    "{Latitude}, {Longitude}\n",
    "\"\"\"\n",
    "\n",
    "#populating format for each city\n",
    "country_names = [info_box_format.format(**row) for index, row in country_df.iterrows()]\n",
    "\n",
    "#creating marker layer\n",
    "marker_layer = gmaps.marker_layer(coordinates, info_box_content = country_names)\n",
    "\n",
    "#adding markers to map\n",
    "fig.add_layer(marker_layer)\n",
    "fig"
   ]
  }
 ],
 "metadata": {
  "kernelspec": {
   "display_name": "Python [conda env:PythonData] *",
   "language": "python",
   "name": "conda-env-PythonData-py"
  },
  "language_info": {
   "codemirror_mode": {
    "name": "ipython",
    "version": 3
   },
   "file_extension": ".py",
   "mimetype": "text/x-python",
   "name": "python",
   "nbconvert_exporter": "python",
   "pygments_lexer": "ipython3",
   "version": "3.8.12"
  }
 },
 "nbformat": 4,
 "nbformat_minor": 5
}
